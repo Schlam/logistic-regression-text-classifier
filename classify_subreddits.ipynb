{
 "cells": [
  {
   "cell_type": "markdown",
   "metadata": {},
   "source": [
    "# Analyzing text with Tf-idf and logistic regression "
   ]
  },
  {
   "cell_type": "markdown",
   "metadata": {},
   "source": [
    "## Connect to Reddit.com"
   ]
  },
  {
   "cell_type": "code",
   "execution_count": 1,
   "metadata": {
    "ExecuteTime": {
     "end_time": "2020-12-15T00:26:41.045107Z",
     "start_time": "2020-12-15T00:26:40.554776Z"
    }
   },
   "outputs": [],
   "source": [
    "import config\n",
    "import praw\n",
    "\n",
    "\n",
    "# List of subreddits to use as a basis for our model\n",
    "forums = ['machinelearning',\n",
    "          'datascience',\n",
    "          'conspiracy',\n",
    "          'astrology',\n",
    "          'chemistry',\n",
    "          'starwars',\n",
    "          'biology',\n",
    "          'physics',\n",
    "          'gaming',\n",
    "          'vegan']\n",
    "\n",
    "\n",
    "# Create reddit object\n",
    "reddit = praw.Reddit(client_id=config.id,\n",
    "                     client_secret=config.secret,\n",
    "                     user_agent='Scraper')\n"
   ]
  },
  {
   "cell_type": "markdown",
   "metadata": {},
   "source": [
    "## Data"
   ]
  },
  {
   "cell_type": "markdown",
   "metadata": {},
   "source": [
    "### Connect to mongoDB"
   ]
  },
  {
   "cell_type": "code",
   "execution_count": 2,
   "metadata": {
    "ExecuteTime": {
     "end_time": "2020-12-15T00:26:41.300997Z",
     "start_time": "2020-12-15T00:26:41.048655Z"
    }
   },
   "outputs": [],
   "source": [
    "from pymongo import MongoClient\n",
    "\n",
    "\n",
    "# Database client\n",
    "client = MongoClient('mongodb://localhost:27017/')\n",
    "\n",
    "# Use database 'redditDB'\n",
    "db = client['redditDB']\n",
    "\n",
    "# Collection for results\n",
    "selfposts = db['documents']"
   ]
  },
  {
   "cell_type": "markdown",
   "metadata": {},
   "source": [
    "### Load text data from forums\n"
   ]
  },
  {
   "cell_type": "code",
   "execution_count": 3,
   "metadata": {
    "ExecuteTime": {
     "end_time": "2020-12-15T00:29:25.817517Z",
     "start_time": "2020-12-15T00:26:41.307810Z"
    }
   },
   "outputs": [
    {
     "name": "stdout",
     "output_type": "stream",
     "text": [
      "Inserted 834 posts from r/machinelearning into database\n",
      " Sample post: anyone used or looked into bfloat16 support on the Ampere consum...\n",
      " ________________________________________________________________________________ \n",
      "\n",
      "Inserted 630 posts from r/datascience into database\n",
      " Sample post: Hey guys, so Amazon has decided to interview me for their Associ...\n",
      " ________________________________________________________________________________ \n",
      "\n",
      "Inserted 405 posts from r/conspiracy into database\n",
      " Sample post: Theory: The Hunter Biden inquiry will collapse the integrity of ...\n",
      " ________________________________________________________________________________ \n",
      "\n",
      "Inserted 598 posts from r/astrology into database\n",
      " Sample post: Hey hey my dudes! I’m trying to get my girlfriend some Christmas...\n",
      " ________________________________________________________________________________ \n",
      "\n",
      "Inserted 592 posts from r/chemistry into database\n",
      " Sample post: So, here is some background: I am a competitive lifter who is lo...\n",
      " ________________________________________________________________________________ \n",
      "\n",
      "Inserted 391 posts from r/starwars into database\n",
      " Sample post: I want to get more into the show and would like some suggestions...\n",
      " ________________________________________________________________________________ \n",
      "\n",
      "Inserted 450 posts from r/biology into database\n",
      " Sample post: Hello!\n",
      "\n",
      "I am looking for a written interview opportunity with an...\n",
      " ________________________________________________________________________________ \n",
      "\n",
      "Inserted 179 posts from r/physics into database\n",
      " Sample post: I always see explanations that the particle pattern occurs when ...\n",
      " ________________________________________________________________________________ \n",
      "\n",
      "Inserted 244 posts from r/gaming into database\n",
      " Sample post:  I just want someone to explain to me how the game has been in d...\n",
      " ________________________________________________________________________________ \n",
      "\n",
      "Inserted 362 posts from r/vegan into database\n",
      " Sample post:  Kimchi? I've been looking for a great vegan kimchi recipe.\n",
      "Also...\n",
      " ________________________________________________________________________________ \n",
      "\n"
     ]
    }
   ],
   "source": [
    "from datetime import datetime\n",
    "import re\n",
    "\n",
    "# \"the perfect URL regular expression\" (https://URLregex.com)\n",
    "pattern = (r\"http[s]?://(?:[a-zA-Z]|[0-9]|[$-_@.&+]|\"\\\n",
    "         + r\"[!*\\(\\),]|(?:%[0-9a-fA-F][0-9a-fA-F]))+\")\n",
    "\n",
    "# Count number of alphabetic characters using RegEx substitution\n",
    "char_count = lambda post: len(re.sub(pattern, '', post.selftext))\n",
    "\n",
    "# Condition for filtering the posts\n",
    "mask = lambda post: char_count(post) >= 100\n",
    "\n",
    "\n",
    "# Lists to hold results\n",
    "data = []\n",
    "labels = []\n",
    "\n",
    "\n",
    "for i, forum in enumerate(forums):\n",
    "\n",
    "    # Get latest posts from the subreddit\n",
    "    subreddit = reddit.subreddit(forum).new(limit=1000)\n",
    "    \n",
    "    # Filter for text-only posts longer than 100 characters (sans URL)     \n",
    "    posts = [{\"_id\": post.id,\n",
    "              \"text\": post.selftext,\n",
    "              \"created_utc\": post.created_utc,\n",
    "              \"scraped_utc\": datetime.utcnow()}\n",
    "              for post in filter(mask, subreddit)]\n",
    "\n",
    "    \n",
    "    # Add posts and labels to respective lists\n",
    "    data.extend([post['text'] for post in posts])\n",
    "    labels.extend([i] * len(posts))\n",
    "    \n",
    "    \n",
    "    # Insert posts into database\n",
    "    selfposts.insert_many(posts)    \n",
    "\n",
    "\n",
    "    print(f\"Inserted {len(posts)} posts from r/{forum} into database\\n\",\n",
    "          f\"Sample post: {posts[0]['text'][:64]}...\\n\", \"_\" * 80, \"\\n\")\n",
    "    \n",
    "\n",
    "    \n"
   ]
  },
  {
   "cell_type": "markdown",
   "metadata": {},
   "source": [
    "## Model"
   ]
  },
  {
   "cell_type": "markdown",
   "metadata": {},
   "source": [
    "### Partition training data"
   ]
  },
  {
   "cell_type": "code",
   "execution_count": 4,
   "metadata": {
    "ExecuteTime": {
     "end_time": "2020-12-15T00:29:27.245185Z",
     "start_time": "2020-12-15T00:29:25.821504Z"
    }
   },
   "outputs": [
    {
     "name": "stdout",
     "output_type": "stream",
     "text": [
      "4216 samples selected for training\n",
      " 469 samples selected for validation\n"
     ]
    }
   ],
   "source": [
    "from sklearn.model_selection import train_test_split\n",
    "\n",
    "\n",
    "# Split training/test data\n",
    "X_train, X_test, y_train, y_test = train_test_split(data, \n",
    "                                                    labels,\n",
    "                                                    test_size=.1,\n",
    "                                                    random_state=0)\n",
    "\n",
    "\n",
    "print(f\"{len(X_train)} samples selected for training\\n\",\n",
    "      f\"{len(X_test)} samples selected for validation\")"
   ]
  },
  {
   "cell_type": "markdown",
   "metadata": {},
   "source": [
    "### Build pipeline"
   ]
  },
  {
   "cell_type": "code",
   "execution_count": 5,
   "metadata": {
    "ExecuteTime": {
     "end_time": "2020-12-15T00:29:27.330486Z",
     "start_time": "2020-12-15T00:29:27.248693Z"
    }
   },
   "outputs": [],
   "source": [
    "from sklearn.feature_extraction.text import TfidfVectorizer\n",
    "from sklearn.decomposition import TruncatedSVD\n",
    "from sklearn.linear_model import LogisticRegressionCV\n",
    "from sklearn.pipeline import Pipeline\n",
    "\n",
    "\n",
    "# Text preprocessor\n",
    "def preprocessor(text):\n",
    "    pattern = (r\"http[s]?://(?:[a-zA-Z]|[0-9]|[$-_@.&+]|\"\\\n",
    "             + r\"[!*\\(\\),]|(?:%[0-9a-fA-F][0-9a-fA-F]))+\")\n",
    "    return re.sub(pattern, ' ', text)\n",
    "\n",
    "# Text vectorizer\n",
    "\n",
    "vector = TfidfVectorizer(min_df=2,\n",
    "                         max_features=3200,\n",
    "                         preprocessor=preprocessor)\n",
    "\n",
    "\n",
    "# Principal component analyzer\n",
    "decomp = TruncatedSVD(n_iter=8,\n",
    "                      random_state=0,\n",
    "                      n_components=1000)\n",
    "\n",
    "\n",
    "# Regression model\n",
    "model = LogisticRegressionCV(Cs=8, \n",
    "                             cv=5, \n",
    "                             n_jobs=-1,\n",
    "                             max_iter=200,\n",
    "                             solver='saga',\n",
    "                             random_state=0)\n",
    "\n",
    "# Data pipeline\n",
    "pipe = Pipeline([('tfidf', vector),\n",
    "                 ('svd', decomp),\n",
    "                 ('lrcv', model)])\n"
   ]
  },
  {
   "cell_type": "markdown",
   "metadata": {},
   "source": [
    "### Fit model"
   ]
  },
  {
   "cell_type": "code",
   "execution_count": 6,
   "metadata": {
    "ExecuteTime": {
     "end_time": "2020-12-15T00:40:34.531019Z",
     "start_time": "2020-12-15T00:29:27.332989Z"
    }
   },
   "outputs": [
    {
     "name": "stderr",
     "output_type": "stream",
     "text": [
      "/Users/sb/opt/anaconda3/lib/python3.7/site-packages/sklearn/linear_model/_sag.py:330: ConvergenceWarning: The max_iter was reached which means the coef_ did not converge\n",
      "  \"the coef_ did not converge\", ConvergenceWarning)\n",
      "/Users/sb/opt/anaconda3/lib/python3.7/site-packages/sklearn/linear_model/_sag.py:330: ConvergenceWarning: The max_iter was reached which means the coef_ did not converge\n",
      "  \"the coef_ did not converge\", ConvergenceWarning)\n",
      "/Users/sb/opt/anaconda3/lib/python3.7/site-packages/sklearn/linear_model/_sag.py:330: ConvergenceWarning: The max_iter was reached which means the coef_ did not converge\n",
      "  \"the coef_ did not converge\", ConvergenceWarning)\n",
      "/Users/sb/opt/anaconda3/lib/python3.7/site-packages/sklearn/linear_model/_sag.py:330: ConvergenceWarning: The max_iter was reached which means the coef_ did not converge\n",
      "  \"the coef_ did not converge\", ConvergenceWarning)\n",
      "/Users/sb/opt/anaconda3/lib/python3.7/site-packages/sklearn/linear_model/_sag.py:330: ConvergenceWarning: The max_iter was reached which means the coef_ did not converge\n",
      "  \"the coef_ did not converge\", ConvergenceWarning)\n",
      "/Users/sb/opt/anaconda3/lib/python3.7/site-packages/sklearn/linear_model/_sag.py:330: ConvergenceWarning: The max_iter was reached which means the coef_ did not converge\n",
      "  \"the coef_ did not converge\", ConvergenceWarning)\n",
      "/Users/sb/opt/anaconda3/lib/python3.7/site-packages/sklearn/linear_model/_sag.py:330: ConvergenceWarning: The max_iter was reached which means the coef_ did not converge\n",
      "  \"the coef_ did not converge\", ConvergenceWarning)\n",
      "/Users/sb/opt/anaconda3/lib/python3.7/site-packages/sklearn/linear_model/_sag.py:330: ConvergenceWarning: The max_iter was reached which means the coef_ did not converge\n",
      "  \"the coef_ did not converge\", ConvergenceWarning)\n",
      "/Users/sb/opt/anaconda3/lib/python3.7/site-packages/sklearn/linear_model/_sag.py:330: ConvergenceWarning: The max_iter was reached which means the coef_ did not converge\n",
      "  \"the coef_ did not converge\", ConvergenceWarning)\n",
      "/Users/sb/opt/anaconda3/lib/python3.7/site-packages/sklearn/linear_model/_sag.py:330: ConvergenceWarning: The max_iter was reached which means the coef_ did not converge\n",
      "  \"the coef_ did not converge\", ConvergenceWarning)\n"
     ]
    },
    {
     "data": {
      "text/plain": [
       "Pipeline(steps=[('tfidf',\n",
       "                 TfidfVectorizer(max_features=3200, min_df=2,\n",
       "                                 preprocessor=<function preprocessor at 0x191b8aa200>)),\n",
       "                ('svd',\n",
       "                 TruncatedSVD(n_components=1000, n_iter=8, random_state=0)),\n",
       "                ('lrcv',\n",
       "                 LogisticRegressionCV(Cs=8, cv=5, max_iter=200, n_jobs=-1,\n",
       "                                      random_state=0, solver='saga'))])"
      ]
     },
     "execution_count": 6,
     "metadata": {},
     "output_type": "execute_result"
    }
   ],
   "source": [
    "\n",
    "# Fit model to data\n",
    "pipe.fit(X_train, y_train)\n"
   ]
  },
  {
   "cell_type": "markdown",
   "metadata": {},
   "source": [
    "### Save pipeline as pickle file"
   ]
  },
  {
   "cell_type": "code",
   "execution_count": 7,
   "metadata": {
    "ExecuteTime": {
     "end_time": "2020-12-15T00:40:34.785619Z",
     "start_time": "2020-12-15T00:40:34.534101Z"
    }
   },
   "outputs": [],
   "source": [
    "import pickle\n",
    "\n",
    "\n",
    "# File name\n",
    "pkl_filename = \"TFIDF_SVD_LRCV.pkl\"\n",
    "\n",
    "# Open file\n",
    "with open(pkl_filename, 'wb') as file:\n",
    "    \n",
    "    # Write file locally\n",
    "    pickle.dump(pipe, file)\n",
    "    \n",
    "    "
   ]
  },
  {
   "cell_type": "code",
   "execution_count": null,
   "metadata": {},
   "outputs": [],
   "source": [
    "### Option to save in mongoDB as well"
   ]
  },
  {
   "cell_type": "code",
   "execution_count": 15,
   "metadata": {
    "ExecuteTime": {
     "end_time": "2020-12-15T00:48:44.497178Z",
     "start_time": "2020-12-15T00:48:44.451460Z"
    }
   },
   "outputs": [
    {
     "data": {
      "text/plain": [
       "ObjectId('5fd807ecc35cb030b4f2b18e')"
      ]
     },
     "execution_count": 15,
     "metadata": {},
     "output_type": "execute_result"
    }
   ],
   "source": [
    "import os\n",
    "\n",
    "dirname = os.getcwd()\n",
    "\n",
    "# Save in mongoDB\n",
    "pipelines = db['pipelines']\n",
    "result = pipelines.insert_one({\n",
    "    \"date\": f\"{datetime.today().date()}\",\n",
    "    \"pipeline\": f\"{dirname}/{pkl_filename}\",\n",
    "    \"info\": {\n",
    "        \"model\":{\n",
    "            \"name\": \"LogisticRegressionCV\",\n",
    "            \"params\": str(model.get_params())},\n",
    "        \"vecorizer\":{\n",
    "            \"name\": \"TfidfVectorizer\",\n",
    "            \"params\": str(vector.get_params()),},\n",
    "        \"decomposition\":{\n",
    "            \"name\": \"TruncatedSVD\",\n",
    "            \"params\": str(decomp.get_params())}}\n",
    "})\n",
    "\n",
    "result.inserted_id"
   ]
  },
  {
   "cell_type": "markdown",
   "metadata": {},
   "source": [
    "## Results"
   ]
  },
  {
   "cell_type": "code",
   "execution_count": 16,
   "metadata": {
    "ExecuteTime": {
     "end_time": "2020-12-15T00:48:48.756304Z",
     "start_time": "2020-12-15T00:48:48.619813Z"
    }
   },
   "outputs": [],
   "source": [
    "\n",
    "# Predict on test data\n",
    "predictions = pipe.predict(X_test)\n"
   ]
  },
  {
   "cell_type": "markdown",
   "metadata": {
    "ExecuteTime": {
     "end_time": "2020-12-14T22:38:31.625663Z",
     "start_time": "2020-12-14T22:38:31.622056Z"
    }
   },
   "source": [
    "### Classification Report"
   ]
  },
  {
   "cell_type": "code",
   "execution_count": 17,
   "metadata": {
    "ExecuteTime": {
     "end_time": "2020-12-15T00:48:50.190435Z",
     "start_time": "2020-12-15T00:48:50.173291Z"
    }
   },
   "outputs": [
    {
     "name": "stdout",
     "output_type": "stream",
     "text": [
      "                 precision    recall  f1-score   support\n",
      "\n",
      "machinelearning       0.72      0.87      0.79        78\n",
      "    datascience       0.74      0.70      0.72        64\n",
      "     conspiracy       0.88      0.85      0.86        41\n",
      "      astrology       0.94      0.92      0.93        53\n",
      "      chemistry       0.78      0.79      0.79        72\n",
      "       starwars       0.79      0.87      0.82        38\n",
      "        biology       0.58      0.62      0.60        50\n",
      "        physics       1.00      0.42      0.59        12\n",
      "         gaming       0.96      0.69      0.80        32\n",
      "          vegan       0.88      0.79      0.84        29\n",
      "\n",
      "       accuracy                           0.78       469\n",
      "      macro avg       0.83      0.75      0.77       469\n",
      "   weighted avg       0.80      0.78      0.78       469\n",
      "\n"
     ]
    }
   ],
   "source": [
    "from sklearn.metrics import classification_report\n",
    "\n",
    "\n",
    "# Precision, recall, f1-score\n",
    "report = classification_report(y_test, \n",
    "                               predictions, \n",
    "                               target_names=forums)\n",
    "\n",
    "print(report)"
   ]
  },
  {
   "cell_type": "markdown",
   "metadata": {},
   "source": [
    "### Visualization"
   ]
  },
  {
   "cell_type": "code",
   "execution_count": 18,
   "metadata": {
    "ExecuteTime": {
     "end_time": "2020-12-15T00:48:55.795981Z",
     "start_time": "2020-12-15T00:48:52.692956Z"
    }
   },
   "outputs": [
    {
     "data": {
      "text/plain": [
       "<AxesSubplot:>"
      ]
     },
     "execution_count": 18,
     "metadata": {},
     "output_type": "execute_result"
    },
    {
     "data": {
      "image/png": "[encoded data removed]",
      "text/plain": [
       "<Figure size 1000x1000 with 2 Axes>"
      ]
     },
     "metadata": {
      "needs_background": "light"
     },
     "output_type": "display_data"
    }
   ],
   "source": [
    "import numpy as np\n",
    "from sklearn.metrics import confusion_matrix\n",
    "import matplotlib.pyplot as plt\n",
    "import seaborn as sns\n",
    "\n",
    "\n",
    "\n",
    "# Get confusion matrix\n",
    "C = confusion_matrix(y_test, predictions)\n",
    "\n",
    "# Scale feature-wise to get accuracy by forum\n",
    "C_norm = C / C.sum(axis=1)[:, np.newaxis]\n",
    "\n",
    "# Number of classes\n",
    "N = len(forums)\n",
    "\n",
    "# Plot heatmap\n",
    "plt.figure(figsize=(N,N), dpi=100)\n",
    "sns.heatmap(data=C_norm,\n",
    "            xticklabels=forums,\n",
    "            yticklabels=forums,\n",
    "            annot=True, fmt='.2f',\n",
    "            cmap='Blues')"
   ]
  }
 ],
 "metadata": {
  "kernelspec": {
   "display_name": "Python 3",
   "language": "python",
   "name": "python3"
  },
  "language_info": {
   "codemirror_mode": {
    "name": "ipython",
    "version": 3
   },
   "file_extension": ".py",
   "mimetype": "text/x-python",
   "name": "python",
   "nbconvert_exporter": "python",
   "pygments_lexer": "ipython3",
   "version": "3.7.4"
  }
 },
 "nbformat": 4,
 "nbformat_minor": 4
}
